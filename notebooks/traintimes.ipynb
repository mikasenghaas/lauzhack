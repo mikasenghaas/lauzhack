{
 "cells": [
  {
   "cell_type": "markdown",
   "metadata": {},
   "source": [
    "## Train Time tables retrieval\n",
    "\n",
    "---"
   ]
  },
  {
   "cell_type": "code",
   "execution_count": 7,
   "metadata": {},
   "outputs": [],
   "source": [
    "import pandas as pd\n",
    "import networkx as nx\n",
    "\n",
    "from tqdm import tqdm\n",
    "import pickle"
   ]
  },
  {
   "cell_type": "code",
   "execution_count": 2,
   "metadata": {},
   "outputs": [
    {
     "data": {
      "text/html": [
       "<div>\n",
       "<style scoped>\n",
       "    .dataframe tbody tr th:only-of-type {\n",
       "        vertical-align: middle;\n",
       "    }\n",
       "\n",
       "    .dataframe tbody tr th {\n",
       "        vertical-align: top;\n",
       "    }\n",
       "\n",
       "    .dataframe thead th {\n",
       "        text-align: right;\n",
       "    }\n",
       "</style>\n",
       "<table border=\"1\" class=\"dataframe\">\n",
       "  <thead>\n",
       "    <tr style=\"text-align: right;\">\n",
       "      <th></th>\n",
       "      <th>journey_id</th>\n",
       "      <th>arrival</th>\n",
       "      <th>departure</th>\n",
       "      <th>station</th>\n",
       "      <th>opuic</th>\n",
       "      <th>pos</th>\n",
       "    </tr>\n",
       "  </thead>\n",
       "  <tbody>\n",
       "    <tr>\n",
       "      <th>0</th>\n",
       "      <td>85:11:1094:001</td>\n",
       "      <td>2023-12-02 00:06:00</td>\n",
       "      <td>2023-12-02 00:07:00</td>\n",
       "      <td>Thun</td>\n",
       "      <td>8507100</td>\n",
       "      <td>46.75485273059273, 7.6296058286694795</td>\n",
       "    </tr>\n",
       "    <tr>\n",
       "      <th>1</th>\n",
       "      <td>85:11:1096:001</td>\n",
       "      <td>2023-12-02 00:37:00</td>\n",
       "      <td>NaT</td>\n",
       "      <td>Basel SBB</td>\n",
       "      <td>8500010</td>\n",
       "      <td>47.5474120550501, 7.589562790156525</td>\n",
       "    </tr>\n",
       "    <tr>\n",
       "      <th>2</th>\n",
       "      <td>85:11:1251:001</td>\n",
       "      <td>NaT</td>\n",
       "      <td>2023-12-01 06:06:00</td>\n",
       "      <td>Basel SBB</td>\n",
       "      <td>8500010</td>\n",
       "      <td>47.5474120550501, 7.589562790156525</td>\n",
       "    </tr>\n",
       "    <tr>\n",
       "      <th>3</th>\n",
       "      <td>85:11:1258:001</td>\n",
       "      <td>NaT</td>\n",
       "      <td>2023-12-01 20:08:00</td>\n",
       "      <td>Chur</td>\n",
       "      <td>8509000</td>\n",
       "      <td>46.853084162764006, 9.52893773304132</td>\n",
       "    </tr>\n",
       "    <tr>\n",
       "      <th>4</th>\n",
       "      <td>85:11:1411:001</td>\n",
       "      <td>NaT</td>\n",
       "      <td>2023-12-01 07:10:00</td>\n",
       "      <td>Bern</td>\n",
       "      <td>8507000</td>\n",
       "      <td>46.948832290498416, 7.439130889923935</td>\n",
       "    </tr>\n",
       "  </tbody>\n",
       "</table>\n",
       "</div>"
      ],
      "text/plain": [
       "       journey_id             arrival           departure    station    opuic  \\\n",
       "0  85:11:1094:001 2023-12-02 00:06:00 2023-12-02 00:07:00       Thun  8507100   \n",
       "1  85:11:1096:001 2023-12-02 00:37:00                 NaT  Basel SBB  8500010   \n",
       "2  85:11:1251:001                 NaT 2023-12-01 06:06:00  Basel SBB  8500010   \n",
       "3  85:11:1258:001                 NaT 2023-12-01 20:08:00       Chur  8509000   \n",
       "4  85:11:1411:001                 NaT 2023-12-01 07:10:00       Bern  8507000   \n",
       "\n",
       "                                     pos  \n",
       "0  46.75485273059273, 7.6296058286694795  \n",
       "1    47.5474120550501, 7.589562790156525  \n",
       "2    47.5474120550501, 7.589562790156525  \n",
       "3   46.853084162764006, 9.52893773304132  \n",
       "4  46.948832290498416, 7.439130889923935  "
      ]
     },
     "execution_count": 2,
     "metadata": {},
     "output_type": "execute_result"
    }
   ],
   "source": [
    "# Load the data\n",
    "df = pd.read_csv('../data/ist-daten-sbb.csv', sep=';')\n",
    "\n",
    "# Select and rename columns\n",
    "cols = {\n",
    "    \"Journey identifier\": \"journey_id\",\n",
    "    \"Arrival time\": \"arrival\",\n",
    "    \"Departure time\": \"departure\",\n",
    "    \"Stop name\": \"station\",\n",
    "    \"OPUIC\": \"opuic\",\n",
    "    \"Geopos\": \"pos\"\n",
    "}\n",
    "\n",
    "df = df[cols.keys()].rename(columns=cols)\n",
    "\n",
    "# Convert time columns to datetime\n",
    "df['arrival'] = pd.to_datetime(df['arrival'])\n",
    "df['departure'] = pd.to_datetime(df['departure'])\n",
    "\n",
    "# Show the result\n",
    "df.head()"
   ]
  },
  {
   "cell_type": "code",
   "execution_count": 3,
   "metadata": {},
   "outputs": [
    {
     "name": "stderr",
     "output_type": "stream",
     "text": [
      "100%|██████████| 5726/5726 [01:01<00:00, 93.20it/s] \n"
     ]
    }
   ],
   "source": [
    "edges = []\n",
    "\n",
    "for journey_id in tqdm(df.journey_id.unique()):\n",
    "    trip = df[df.journey_id == journey_id].sort_values('departure', inplace=False)\n",
    "    trip_name = f\"{trip.iloc[0].station} -> {trip.iloc[-1].station}\"\n",
    "    \n",
    "    for i in range(len(trip) - 1):\n",
    "        edges.append((\n",
    "            trip.iloc[i].station, \n",
    "            trip.iloc[i + 1].station,\n",
    "            {\n",
    "                'departure': trip.iloc[i].departure,\n",
    "                'arrival': trip.iloc[i + 1].arrival,\n",
    "                'duration': trip.iloc[i + 1].arrival - trip.iloc[i].departure,\n",
    "                'journey_id': journey_id,\n",
    "                'trip_name': trip_name,\n",
    "                'type': 'train'\n",
    "            })\n",
    "        )"
   ]
  },
  {
   "cell_type": "code",
   "execution_count": 4,
   "metadata": {},
   "outputs": [
    {
     "name": "stderr",
     "output_type": "stream",
     "text": [
      "100%|██████████| 603/603 [00:02<00:00, 241.22it/s]\n"
     ]
    }
   ],
   "source": [
    "# Construct the graph from edges\n",
    "G = nx.MultiDiGraph(edges)\n",
    "\n",
    "# Add attributes to the nodes\n",
    "for node in tqdm(G.nodes):\n",
    "    # Get the station attributes from the dataframe\n",
    "    station = df[df.station == node].iloc[0]\n",
    "    station_attributes = {\n",
    "        'pos': station.pos,\n",
    "        'opuic': station.opuic\n",
    "    }\n",
    "\n",
    "    # Add the attributes to the node\n",
    "    G.nodes[node].update(station_attributes)"
   ]
  },
  {
   "cell_type": "code",
   "execution_count": 5,
   "metadata": {},
   "outputs": [
    {
     "data": {
      "text/plain": [
       "[('Interlaken Ost',\n",
       "  'Interlaken West',\n",
       "  {'departure': Timestamp('2023-12-01 23:33:00'),\n",
       "   'arrival': Timestamp('2023-12-01 23:36:00'),\n",
       "   'duration': Timedelta('0 days 00:03:00'),\n",
       "   'journey_id': '85:11:1094:001',\n",
       "   'trip_name': 'Interlaken Ost -> Bern',\n",
       "   'type': 'train'}),\n",
       " ('Interlaken Ost',\n",
       "  'Interlaken West',\n",
       "  {'departure': Timestamp('2023-12-01 07:00:00'),\n",
       "   'arrival': Timestamp('2023-12-01 07:04:00'),\n",
       "   'duration': Timedelta('0 days 00:04:00'),\n",
       "   'journey_id': '85:11:809:001',\n",
       "   'trip_name': 'Interlaken Ost -> Romanshorn',\n",
       "   'type': 'train'})]"
      ]
     },
     "execution_count": 5,
     "metadata": {},
     "output_type": "execute_result"
    }
   ],
   "source": [
    "# Show a sample of the edges\n",
    "list(G.edges(data=True))[0:2]"
   ]
  },
  {
   "cell_type": "code",
   "execution_count": 6,
   "metadata": {},
   "outputs": [
    {
     "data": {
      "text/plain": [
       "[('Interlaken Ost',\n",
       "  {'pos': '46.690499996187924, 7.869000004346448', 'opuic': 8507492}),\n",
       " ('Interlaken West',\n",
       "  {'pos': '46.682627980356514, 7.851453137595281', 'opuic': 8507493})]"
      ]
     },
     "execution_count": 6,
     "metadata": {},
     "output_type": "execute_result"
    }
   ],
   "source": [
    "# Show a sample of the nodes\n",
    "list(G.nodes(data=True))[0:2]"
   ]
  },
  {
   "cell_type": "code",
   "execution_count": 8,
   "metadata": {},
   "outputs": [],
   "source": [
    "with open(\"../data/graph.pickle\", 'wb') as file:\n",
    "    pickle.dump(G, file)"
   ]
  },
  {
   "cell_type": "code",
   "execution_count": null,
   "metadata": {},
   "outputs": [],
   "source": []
  }
 ],
 "metadata": {
  "kernelspec": {
   "display_name": "lauzhack",
   "language": "python",
   "name": "python3"
  },
  "language_info": {
   "codemirror_mode": {
    "name": "ipython",
    "version": 3
   },
   "file_extension": ".py",
   "mimetype": "text/x-python",
   "name": "python",
   "nbconvert_exporter": "python",
   "pygments_lexer": "ipython3",
   "version": "3.10.13"
  }
 },
 "nbformat": 4,
 "nbformat_minor": 2
}
