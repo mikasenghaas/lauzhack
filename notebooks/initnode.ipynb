{
 "cells": [
  {
   "cell_type": "markdown",
   "metadata": {},
   "source": [
    "## Get Initial Node"
   ]
  },
  {
   "cell_type": "markdown",
   "metadata": {},
   "source": [
    "### Setup & Load the Graph\n",
    "\n",
    "---"
   ]
  },
  {
   "cell_type": "code",
   "execution_count": 29,
   "metadata": {},
   "outputs": [],
   "source": [
    "import sys\n",
    "sys.path.insert(0, '..')\n",
    "\n",
    "import networkx as nx\n",
    "import pandas as pd\n",
    "import pickle\n",
    "from tqdm import tqdm\n",
    "\n",
    "from utils import get_location, get_distance, getRouteTime\n",
    "\n",
    "import warnings\n",
    "warnings.filterwarnings('ignore')"
   ]
  },
  {
   "cell_type": "code",
   "execution_count": 8,
   "metadata": {},
   "outputs": [],
   "source": [
    "# Load the graph from the pickle file\n",
    "G = pickle.load(open(\"../data/graph.pickle\", \"rb\"))"
   ]
  },
  {
   "cell_type": "code",
   "execution_count": 9,
   "metadata": {},
   "outputs": [
    {
     "name": "stdout",
     "output_type": "stream",
     "text": [
      "['Interlaken Ost', 'Interlaken West', 'Spiez', 'Thun', 'Bern', 'Olten', 'Liestal', 'Basel SBB', 'Zürich HB', 'Chur']\n"
     ]
    }
   ],
   "source": [
    "# Show sample nodes\n",
    "print(list(G.nodes)[0:10])"
   ]
  },
  {
   "cell_type": "code",
   "execution_count": 11,
   "metadata": {},
   "outputs": [
    {
     "name": "stdout",
     "output_type": "stream",
     "text": [
      "[('Interlaken Ost', 'Interlaken West', {'departure': Timestamp('2023-12-01 23:33:00'), 'arrival': Timestamp('2023-12-01 23:36:00'), 'duration': Timedelta('0 days 00:03:00'), 'journey_id': '85:11:1094:001', 'trip_name': 'Interlaken Ost -> Bern', 'type': 'train'}), ('Interlaken Ost', 'Interlaken West', {'departure': Timestamp('2023-12-01 07:00:00'), 'arrival': Timestamp('2023-12-01 07:04:00'), 'duration': Timedelta('0 days 00:04:00'), 'journey_id': '85:11:809:001', 'trip_name': 'Interlaken Ost -> Romanshorn', 'type': 'train'}), ('Interlaken Ost', 'Interlaken West', {'departure': Timestamp('2023-12-01 09:00:00'), 'arrival': Timestamp('2023-12-01 09:04:00'), 'duration': Timedelta('0 days 00:04:00'), 'journey_id': '85:11:813:001', 'trip_name': 'Interlaken Ost -> Romanshorn', 'type': 'train'}), ('Interlaken Ost', 'Interlaken West', {'departure': Timestamp('2023-12-01 11:00:00'), 'arrival': Timestamp('2023-12-01 11:04:00'), 'duration': Timedelta('0 days 00:04:00'), 'journey_id': '85:11:817:001', 'trip_name': 'Interlaken Ost -> Romanshorn', 'type': 'train'}), ('Interlaken Ost', 'Interlaken West', {'departure': Timestamp('2023-12-01 14:00:00'), 'arrival': Timestamp('2023-12-01 14:04:00'), 'duration': Timedelta('0 days 00:04:00'), 'journey_id': '85:11:823:001', 'trip_name': 'Interlaken Ost -> Romanshorn', 'type': 'train'}), ('Interlaken Ost', 'Interlaken West', {'departure': Timestamp('2023-12-01 16:00:00'), 'arrival': Timestamp('2023-12-01 16:04:00'), 'duration': Timedelta('0 days 00:04:00'), 'journey_id': '85:11:827:001', 'trip_name': 'Interlaken Ost -> Romanshorn', 'type': 'train'}), ('Interlaken Ost', 'Interlaken West', {'departure': Timestamp('2023-12-01 18:00:00'), 'arrival': Timestamp('2023-12-01 18:04:00'), 'duration': Timedelta('0 days 00:04:00'), 'journey_id': '85:11:831:001', 'trip_name': 'Interlaken Ost -> Romanshorn', 'type': 'train'}), ('Interlaken Ost', 'Interlaken West', {'departure': Timestamp('2023-12-01 20:00:00'), 'arrival': Timestamp('2023-12-01 20:04:00'), 'duration': Timedelta('0 days 00:04:00'), 'journey_id': '85:11:835:001', 'trip_name': 'Interlaken Ost -> Romanshorn', 'type': 'train'}), ('Interlaken Ost', 'Interlaken West', {'departure': Timestamp('2023-12-01 04:58:00'), 'arrival': Timestamp('2023-12-01 05:02:00'), 'duration': Timedelta('0 days 00:04:00'), 'journey_id': '85:11:956:001', 'trip_name': 'Interlaken Ost -> Basel SBB', 'type': 'train'}), ('Interlaken Ost', 'Interlaken West', {'departure': Timestamp('2023-12-01 08:00:00'), 'arrival': Timestamp('2023-12-01 08:04:00'), 'duration': Timedelta('0 days 00:04:00'), 'journey_id': '85:11:962:001', 'trip_name': 'Interlaken Ost -> Basel SBB', 'type': 'train'})]\n"
     ]
    }
   ],
   "source": [
    "# Show sample edges\n",
    "print(list(G.edges(data=True))[0:10])"
   ]
  },
  {
   "cell_type": "code",
   "execution_count": 16,
   "metadata": {},
   "outputs": [
    {
     "data": {
      "text/html": [
       "<div>\n",
       "<style scoped>\n",
       "    .dataframe tbody tr th:only-of-type {\n",
       "        vertical-align: middle;\n",
       "    }\n",
       "\n",
       "    .dataframe tbody tr th {\n",
       "        vertical-align: top;\n",
       "    }\n",
       "\n",
       "    .dataframe thead th {\n",
       "        text-align: right;\n",
       "    }\n",
       "</style>\n",
       "<table border=\"1\" class=\"dataframe\">\n",
       "  <thead>\n",
       "    <tr style=\"text-align: right;\">\n",
       "      <th></th>\n",
       "      <th>station</th>\n",
       "      <th>station_abbr</th>\n",
       "      <th>longitude</th>\n",
       "      <th>latitude</th>\n",
       "    </tr>\n",
       "  </thead>\n",
       "  <tbody>\n",
       "    <tr>\n",
       "      <th>0</th>\n",
       "      <td>Muttenz</td>\n",
       "      <td>MU</td>\n",
       "      <td>47.533591</td>\n",
       "      <td>7.647894</td>\n",
       "    </tr>\n",
       "    <tr>\n",
       "      <th>1</th>\n",
       "      <td>Pratteln</td>\n",
       "      <td>PR</td>\n",
       "      <td>47.522669</td>\n",
       "      <td>7.690817</td>\n",
       "    </tr>\n",
       "    <tr>\n",
       "      <th>2</th>\n",
       "      <td>Frenkendorf-Füllinsdorf</td>\n",
       "      <td>FRE</td>\n",
       "      <td>47.501470</td>\n",
       "      <td>7.719111</td>\n",
       "    </tr>\n",
       "    <tr>\n",
       "      <th>3</th>\n",
       "      <td>Liestal</td>\n",
       "      <td>LST</td>\n",
       "      <td>47.484461</td>\n",
       "      <td>7.731367</td>\n",
       "    </tr>\n",
       "    <tr>\n",
       "      <th>4</th>\n",
       "      <td>Lausen</td>\n",
       "      <td>LSN</td>\n",
       "      <td>47.470345</td>\n",
       "      <td>7.759763</td>\n",
       "    </tr>\n",
       "  </tbody>\n",
       "</table>\n",
       "</div>"
      ],
      "text/plain": [
       "                   station station_abbr  longitude  latitude\n",
       "0                  Muttenz           MU  47.533591  7.647894\n",
       "1                 Pratteln           PR  47.522669  7.690817\n",
       "2  Frenkendorf-Füllinsdorf          FRE  47.501470  7.719111\n",
       "3                  Liestal          LST  47.484461  7.731367\n",
       "4                   Lausen          LSN  47.470345  7.759763"
      ]
     },
     "execution_count": 16,
     "metadata": {},
     "output_type": "execute_result"
    }
   ],
   "source": [
    "pr_stations = pd.read_csv(\"../data/pr_stations.csv\")\n",
    "pr_stations.head()"
   ]
  },
  {
   "cell_type": "markdown",
   "metadata": {},
   "source": [
    "### Adding the Initial Node to the Graph Demo\n",
    "\n",
    "---"
   ]
  },
  {
   "cell_type": "markdown",
   "metadata": {},
   "source": [
    "Compute the distance in meters between the initial station and all the other stations in the graph, and select the `k` closest stations:"
   ]
  },
  {
   "cell_type": "code",
   "execution_count": 78,
   "metadata": {},
   "outputs": [
    {
     "name": "stdout",
     "output_type": "stream",
     "text": [
      "Closest 1 station(s):\n",
      "- Denges-Echandens is 2.01 km away\n"
     ]
    }
   ],
   "source": [
    "# Setup input from the user\n",
    "start_loc = \"46.518732, 6.561944\"\n",
    "k = 1\n",
    "\n",
    "# Find k-closest stations with PR\n",
    "distances = [\n",
    "    (end[0], get_distance(start_loc, f\"{end[2]}, {end[3]}\"))\n",
    "    for _, end in pr_stations.iterrows()\n",
    "]\n",
    "\n",
    "# Sort the distances in place\n",
    "distances.sort(key=lambda t: t[1])\n",
    "\n",
    "# Show the k-closest stations\n",
    "print(f\"Closest {k} station(s):\")\n",
    "k_closest_stations = distances[:k]\n",
    "for station, distance in k_closest_stations:\n",
    "    print(f\"- {station} is {distance/1000:.2f} km away\")"
   ]
  },
  {
   "cell_type": "markdown",
   "metadata": {},
   "source": [
    "Now, compute the travel time for car, bike and walking in minutes between the initial station and the **closest stations** in the graph:"
   ]
  },
  {
   "cell_type": "code",
   "execution_count": 79,
   "metadata": {},
   "outputs": [
    {
     "name": "stderr",
     "output_type": "stream",
     "text": [
      "Calculating car travel time: 100%|██████████| 1/1 [00:00<00:00,  1.55it/s]\n",
      "Calculating bike travel time: 100%|██████████| 1/1 [00:00<00:00,  1.47it/s]\n",
      "Calculating walk travel time: 100%|██████████| 1/1 [00:00<00:00,  2.05it/s]\n"
     ]
    }
   ],
   "source": [
    "car_travel_time = [\n",
    "    (\n",
    "        station[0],\n",
    "        getRouteTime(\n",
    "            start_loc, get_location(station[0]), method=\"car\"\n",
    "        ),\n",
    "    )\n",
    "    for station in tqdm(k_closest_stations, desc=\"Calculating car travel time\")\n",
    "]\n",
    "\n",
    "bike_travel_time = [\n",
    "    (\n",
    "        station[0],\n",
    "        getRouteTime(\n",
    "            start_loc, get_location(station[0]), method=\"bike\"\n",
    "        ),\n",
    "    )\n",
    "    for station in tqdm(k_closest_stations, desc=\"Calculating bike travel time\")\n",
    "]\n",
    "\n",
    "walk_travel_time = [\n",
    "    (\n",
    "        station[0],\n",
    "        getRouteTime(\n",
    "            start_loc, get_location(station[0]), method=\"foot\"\n",
    "        ),\n",
    "    )\n",
    "    for station in tqdm(k_closest_stations, desc=\"Calculating walk travel time\")\n",
    "]"
   ]
  },
  {
   "cell_type": "markdown",
   "metadata": {},
   "source": [
    "Now, combine all modes of transport into a single list. Next, add new edge from the initial station to the one of the `k` closest stations for each mode of transport."
   ]
  },
  {
   "cell_type": "code",
   "execution_count": 80,
   "metadata": {},
   "outputs": [],
   "source": [
    "travel_time = {\n",
    "    \"car\": car_travel_time,\n",
    "    \"bike\": bike_travel_time,\n",
    "    \"walk\": walk_travel_time,\n",
    "}\n",
    "\n",
    "for method, times in travel_time.items():\n",
    "\n",
    "    G.add_edges_from([\n",
    "        (\"Start\", station, {\"duration\": time, \"type\": method})\n",
    "        for station, time in times\n",
    "    ])"
   ]
  },
  {
   "cell_type": "markdown",
   "metadata": {},
   "source": [
    "Now, let's check the newly added edges:"
   ]
  },
  {
   "cell_type": "code",
   "execution_count": 81,
   "metadata": {},
   "outputs": [
    {
     "data": {
      "text/plain": [
       "[('Start', 'Denges-Echandens', {'duration': 637, 'type': 'car'}),\n",
       " ('Start', 'Denges-Echandens', {'duration': 637, 'type': 'car'}),\n",
       " ('Start', 'Denges-Echandens', {'duration': 1115, 'type': 'bike'}),\n",
       " ('Start', 'Denges-Echandens', {'duration': 1115, 'type': 'bike'}),\n",
       " ('Start', 'Denges-Echandens', {'duration': 4032, 'type': 'walk'}),\n",
       " ('Start', 'Denges-Echandens', {'duration': 4032, 'type': 'walk'})]"
      ]
     },
     "execution_count": 81,
     "metadata": {},
     "output_type": "execute_result"
    }
   ],
   "source": [
    "sorted(list(G.edges(\"Start\", data=True)), key=lambda t: t[2][\"duration\"])"
   ]
  },
  {
   "cell_type": "markdown",
   "metadata": {},
   "source": [
    "### Final Util Function\n",
    "\n",
    "---"
   ]
  },
  {
   "cell_type": "markdown",
   "metadata": {},
   "source": [
    "Now, let's wrap all the above steps into a function:"
   ]
  },
  {
   "cell_type": "code",
   "execution_count": 64,
   "metadata": {},
   "outputs": [],
   "source": [
    "def get_travel_time(start_loc : str, closest_stations : list[tuple[str, float]], mode : str):\n",
    "    \"\"\"\n",
    "    Calculates the travel time for a given mode of transport\n",
    "\n",
    "    Args:\n",
    "        start_loc (str): The starting location\n",
    "        closest_stations (list[tuple(str, float)]): The closest stations\n",
    "        mode (str): The mode of transport\n",
    "    \n",
    "    Returns:\n",
    "        list[tuple(str, float)]: The travel time for each station\n",
    "    \"\"\"\n",
    "    travel_time = [\n",
    "        (\n",
    "            station[0],\n",
    "            getRouteTime(\n",
    "                start_loc, get_location(station[0]), method=mode\n",
    "            ),\n",
    "        )\n",
    "        for station in closest_stations\n",
    "    ]\n",
    "\n",
    "    return travel_time\n",
    "\n",
    "def add_node(G : nx.Graph, start_loc : str, k : int) -> nx.Graph:\n",
    "    \"\"\"\n",
    "    Adds a new node to the graph\n",
    "\n",
    "    Args:\n",
    "        G (nx.Graph): The graph\n",
    "        start_loc (str): The starting location\n",
    "        k (int): The number of closest stations to add\n",
    "    \n",
    "    Returns:\n",
    "        nx.Graph: The graph with the new node\n",
    "    \"\"\"\n",
    "\n",
    "\n",
    "    # Find k-closest stations with PR\n",
    "    distances = [\n",
    "        (end[0], get_distance(start_loc, f\"{end[2]}, {end[3]}\"))\n",
    "        for _, end in pr_stations.iterrows()\n",
    "    ]\n",
    "\n",
    "    # Sort the distances in place\n",
    "    distances.sort(key=lambda t: t[1])\n",
    "\n",
    "    # Select the k-closest stations\n",
    "    k_closest_stations = distances[:k]\n",
    "\n",
    "    # Compute the travel time for each mode of transport for the k-closest stations\n",
    "    travel_time = {\n",
    "        \"car\": get_travel_time(start_loc, k_closest_stations, \"car\"),\n",
    "        \"bike\": get_travel_time(start_loc, k_closest_stations, \"bike\"),\n",
    "        \"walk\": get_travel_time(start_loc, k_closest_stations, \"foot\"),\n",
    "    }\n",
    "\n",
    "    # Add the start node with start_loc as attribute\n",
    "    G.add_node(\"Start\", pos=start_loc)\n",
    "\n",
    "    # Finally, add the edges from the init node to the existing statiions in the graph\n",
    "    for method, times in travel_time.items():\n",
    "\n",
    "        G.add_edges_from([\n",
    "            (\"Start\", station, {\"duration\": time, \"type\": method})\n",
    "            for station, time in times\n",
    "        ])\n",
    "\n",
    "    return G"
   ]
  },
  {
   "cell_type": "markdown",
   "metadata": {},
   "source": [
    "Let's test the function:"
   ]
  },
  {
   "cell_type": "code",
   "execution_count": 76,
   "metadata": {},
   "outputs": [],
   "source": [
    "# Reload the graph from the pickle file\n",
    "G = pickle.load(open(\"../data/graph.pickle\", \"rb\"))\n",
    "\n",
    "# Add the new node\n",
    "start_loc = \"46.518732, 6.561944\"\n",
    "G = add_node(G, start_loc=start_loc, k=1)"
   ]
  },
  {
   "cell_type": "code",
   "execution_count": 75,
   "metadata": {},
   "outputs": [
    {
     "name": "stdout",
     "output_type": "stream",
     "text": [
      "The start node (with pos <<46.518732, 6.561944>>) has been added to the graph with the following edges:\n",
      "- From Start to Denges-Echandens in 637.00 minutes with car\n",
      "- From Start to Denges-Echandens in 1115.00 minutes with bike\n",
      "- From Start to Denges-Echandens in 4032.00 minutes with walk\n"
     ]
    }
   ],
   "source": [
    "# Show the new edges\n",
    "print(f\"The start node (with pos <<{G.nodes['Start']['pos']}>>) has been added to the graph with the following edges:\")\n",
    "for e in sorted(list(G.edges(\"Start\", data=True)), key=lambda t: t[2][\"duration\"]):\n",
    "    print(f\"- From {e[0]} to {e[1]} in {e[2]['duration']:.2f} minutes with {e[2]['type']}\")"
   ]
  },
  {
   "cell_type": "markdown",
   "metadata": {},
   "source": [
    "---"
   ]
  }
 ],
 "metadata": {
  "kernelspec": {
   "display_name": "lauzhack",
   "language": "python",
   "name": "python3"
  },
  "language_info": {
   "codemirror_mode": {
    "name": "ipython",
    "version": 3
   },
   "file_extension": ".py",
   "mimetype": "text/x-python",
   "name": "python",
   "nbconvert_exporter": "python",
   "pygments_lexer": "ipython3",
   "version": "3.10.13"
  }
 },
 "nbformat": 4,
 "nbformat_minor": 2
}
