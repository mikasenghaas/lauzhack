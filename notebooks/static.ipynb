{
 "cells": [
  {
   "cell_type": "markdown",
   "metadata": {},
   "source": [
    "# Exploration of Static Data\n"
   ]
  },
  {
   "cell_type": "code",
   "execution_count": null,
   "metadata": {},
   "outputs": [],
   "source": [
    "# Imports\n",
    "import sys\n",
    "\n",
    "import pandas as pd\n",
    "import seaborn as sns\n",
    "\n",
    "sys.path.append(\"..\")"
   ]
  },
  {
   "cell_type": "code",
   "execution_count": null,
   "metadata": {},
   "outputs": [],
   "source": [
    "# Load mobility stops data\n",
    "stops = pd.read_csv(\"../data/stops.csv\", delimiter=\";\")\n",
    "print(f\"Loaded {len(stops)} rows and {len(stops.columns)} columns.\")\n",
    "\n",
    "stops.head(5)"
   ]
  },
  {
   "cell_type": "markdown",
   "metadata": {},
   "source": [
    "From\n",
    "[SBB](https://www.sbb.ch/en/tickets-offers/private-transport/car-parking/park-and-rail.html):\n",
    "Park your car at one of around 600 P+Rail stations and pay on an hourly or daily\n",
    "basis – it’s easiest directly in the P+Rail app. The quick and relaxed way to\n",
    "travel to your destination by car and train.\n"
   ]
  },
  {
   "cell_type": "code",
   "execution_count": null,
   "metadata": {},
   "outputs": [],
   "source": [
    "pr.columns"
   ]
  },
  {
   "cell_type": "code",
   "execution_count": null,
   "metadata": {},
   "outputs": [],
   "source": [
    "# Extract only the P+R stops\n",
    "is_pr = ~stops.parkrail_number.isna()\n",
    "pr = stops[is_pr]\n",
    "\n",
    "# Extract relevant columns\n",
    "cols = {\"Geopos\": \"geoloc\", \"Stop name\": \"station\",\n",
    "        \"Station abbreviation\": \"station_abbr\"}\n",
    "pr = pr[list(cols.keys())].rename(columns=cols)\n",
    "\n",
    "# Parse geoloc column to extract latitude and longitude\n",
    "parse_geoloc = lambda x: tuple(map(float, pd.Series(x.split(\", \"))))\n",
    "geolocs = pr.geoloc.apply(parse_geoloc)\n",
    "longitude, latitude = zip(*geolocs)\n",
    "pr[\"longitude\"] = longitude\n",
    "pr[\"latitude\"] = latitude\n",
    "\n",
    "# Drop geoloc column\n",
    "pr.drop(columns=\"geoloc\", inplace=True)\n",
    "\n",
    "# Drop duplicates (probably occur because some )\n",
    "\n",
    "# Display\n",
    "display(pr)"
   ]
  },
  {
   "cell_type": "code",
   "execution_count": 52,
   "metadata": {},
   "outputs": [
    {
     "data": {
      "text/plain": [
       "(523, 584)"
      ]
     },
     "execution_count": 52,
     "metadata": {},
     "output_type": "execute_result"
    }
   ],
   "source": [
    "len(pr.station.unique()), len(pr)\n",
    "# pr.station.drop_duplicates()"
   ]
  },
  {
   "cell_type": "code",
   "execution_count": null,
   "metadata": {},
   "outputs": [],
   "source": [
    "# Save processed data\n",
    "pr.to_csv(\"../data/pr_stations.csv\", index=False)"
   ]
  }
 ],
 "metadata": {
  "kernelspec": {
   "display_name": "lauzhack",
   "language": "python",
   "name": "python3"
  },
  "language_info": {
   "codemirror_mode": {
    "name": "ipython",
    "version": 3
   },
   "file_extension": ".py",
   "mimetype": "text/x-python",
   "name": "python",
   "nbconvert_exporter": "python",
   "pygments_lexer": "ipython3",
   "version": "3.10.13"
  }
 },
 "nbformat": 4,
 "nbformat_minor": 2
}
