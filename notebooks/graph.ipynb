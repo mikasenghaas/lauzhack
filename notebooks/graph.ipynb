{
 "cells": [
  {
   "cell_type": "markdown",
   "metadata": {},
   "source": [
    "# Build the multi-modal for intermodal route planning\n",
    "\n",
    "**Nodes**: Stations in the SBB traffic network. Curated from the following\n",
    "sources:\n",
    "\n",
    "- `regional_station.csv` from\n",
    "  [here](https://data.sbb.ch/explore/dataset/regionale-fahrplane/information/)\n",
    "\n",
    "- `city_station.csv` from\n",
    "  [here](https://data.sbb.ch/explore/dataset/stadtefahrplan/information/)\n",
    "\n",
    "- `pr_station.csv` from\n",
    "  [here](https://data.sbb.ch/explore/dataset/mobilitat/information/)\n",
    "\n",
    "Each node has the `station_name` as the primary attribute and then also\n",
    "information about the location of the station (`pos` (tuple of lon, lat float),\n",
    "`loc` (string repr of the former), `opucid` (an identifier) and `abbr` (the\n",
    "abbreviation of the station name)).\n",
    "\n",
    "**Edges**: Trip segments between stations for multiple modalities (foot, bike,\n",
    "car, train). The latter sourced from the timetable of the SBB for a given day\n",
    "(see `timetable.ipynb` for details). The former are generated from the `nodes`\n",
    "by computing all pairs of nodes that are within a given time travel threshold\n",
    "(e.g. all stations within 30 minutes foot distance).\n",
    "\n",
    "Three types of nodes:\n",
    "\n",
    "- Static for modalities `foot`, `bike` and `car` from each node given a time\n",
    "  threshold\n",
    "- Dynamic given start position for all modalities given with k-nearest neighbors\n",
    "- ...\n",
    "\n",
    "Results: Directed, multi-edged graph\n"
   ]
  },
  {
   "cell_type": "code",
   "execution_count": null,
   "metadata": {},
   "outputs": [],
   "source": [
    "# Immports\n",
    "import pandas as pd\n",
    "import networkx as nx\n",
    "\n",
    "from tqdm import tqdm\n",
    "import pickle"
   ]
  },
  {
   "cell_type": "code",
   "execution_count": null,
   "metadata": {},
   "outputs": [],
   "source": [
    "# Load the data\n",
    "df = pd.read_csv(\"../data/ist-daten-sbb.csv\", sep=\";\")\n",
    "\n",
    "# Select and rename columns\n",
    "cols = {\n",
    "    \"Journey identifier\": \"journey_id\",\n",
    "    \"Arrival time\": \"arrival\",\n",
    "    \"Departure time\": \"departure\",\n",
    "    \"Stop name\": \"station\",\n",
    "    \"OPUIC\": \"opuic\",\n",
    "    \"Geopos\": \"pos\",\n",
    "}\n",
    "\n",
    "# Select and rename columns\n",
    "df = df[cols.keys()].rename(columns=cols)\n",
    "\n",
    "# Convert time columns to datetime\n",
    "df[\"arrival\"] = pd.to_datetime(df[\"arrival\"])\n",
    "df[\"departure\"] = pd.to_datetime(df[\"departure\"])\n",
    "\n",
    "# Show the result\n",
    "df.head(5)"
   ]
  },
  {
   "cell_type": "markdown",
   "metadata": {},
   "source": [
    "## Add Route Network from SBB Timetable\n",
    "\n",
    "Using data from `01.12.2023`\n"
   ]
  },
  {
   "cell_type": "code",
   "execution_count": null,
   "metadata": {},
   "outputs": [],
   "source": [
    "# Build edge list (with edge attributes) for train journeys\n",
    "edges = []\n",
    "for journey_id in tqdm(df.journey_id.unique()):\n",
    "    trip = df[df.journey_id == journey_id].sort_values(\"departure\", inplace=False)\n",
    "    trip_name = f\"{trip.iloc[0].station} -> {trip.iloc[-1].station}\"\n",
    "\n",
    "    for i in range(len(trip) - 1):\n",
    "        edges.append(\n",
    "            (\n",
    "                trip.iloc[i].station,\n",
    "                trip.iloc[i + 1].station,\n",
    "                {\n",
    "                    \"departure\": trip.iloc[i].departure,\n",
    "                    \"arrival\": trip.iloc[i + 1].arrival,\n",
    "                    \"duration\": trip.iloc[i + 1].arrival - trip.iloc[i].departure,\n",
    "                    \"journey_id\": journey_id,\n",
    "                    \"trip_name\": trip_name,\n",
    "                    \"type\": \"train\",\n",
    "                },\n",
    "            )\n",
    "        )"
   ]
  },
  {
   "cell_type": "code",
   "execution_count": null,
   "metadata": {},
   "outputs": [],
   "source": [
    "# Initialise multi-graph object\n",
    "G = nx.MultiDiGraph(edges)\n",
    "\n",
    "# We have the following attributes for each edge (for train journeys)\n",
    "list(G.edges(data=True))[0]"
   ]
  },
  {
   "cell_type": "code",
   "execution_count": null,
   "metadata": {},
   "outputs": [],
   "source": [
    "# Add node attributes (station id and position)\n",
    "for node in tqdm(G.nodes):\n",
    "    # Get the station attributes from the dataframe\n",
    "    station = df[df.station == node].iloc[0]\n",
    "    station_attributes = {\"pos\": station.pos, \"opuic\": station.opuic}\n",
    "\n",
    "    # Add the attributes to the node\n",
    "    G.nodes[node].update(station_attributes)"
   ]
  },
  {
   "cell_type": "markdown",
   "metadata": {},
   "source": [
    "Add information about whether station has parking spot (`has_pr`)\n"
   ]
  },
  {
   "cell_type": "code",
   "execution_count": null,
   "metadata": {},
   "outputs": [],
   "source": [
    "# Read in city and regional stations\n",
    "pr_stations = pd.read_csv(\"../data/pr_stations.csv\")\n",
    "\n",
    "# Rename columns\n",
    "pr_stations = pr_stations.rename(columns={\"station\": \"name\", \"station_abbr\": \"abbr\"})\n",
    "\n",
    "# Initialise has_pr to False for all nodes\n",
    "for node in G.nodes:\n",
    "    G.nodes[node][\"has_pr\"] = False\n",
    "\n",
    "not_found = 0\n",
    "for pr_station in pr_stations.name.unique():\n",
    "    if pr_station in G.nodes:\n",
    "        G.nodes[pr_station][\"has_pr\"] = True\n",
    "    else:\n",
    "        not_found += 1\n",
    "\n",
    "print(\n",
    "    f\"Added {pr_stations.name.nunique() - not_found} of {pr_stations.name.nunique()} PR stations. {not_found} not found.\"\n",
    ")"
   ]
  },
  {
   "cell_type": "code",
   "execution_count": null,
   "metadata": {},
   "outputs": [],
   "source": [
    "# We have the following attributes for each node\n",
    "list(G.nodes(data=True))[0]"
   ]
  },
  {
   "cell_type": "markdown",
   "metadata": {},
   "source": [
    "## Visualise graph\n"
   ]
  },
  {
   "cell_type": "code",
   "execution_count": null,
   "metadata": {},
   "outputs": [],
   "source": [
    "# Set up the map projection and the transformation\n",
    "proj = ccrs.Mercator()\n",
    "transform = ccrs.Geodetic()\n",
    "\n",
    "# Create a figure with an axes set with the projection\n",
    "fig, ax = plt.subplots(subplot_kw={\"projection\": proj}, figsize=(30, 10))\n",
    "\n",
    "# Set the extent of the map (min longitude, max longitude, min latitude, max latitude)\n",
    "ax.set_extent([5, 12, 45.5, 48], crs=ccrs.PlateCarree())\n",
    "\n",
    "# Add map features\n",
    "ax.add_feature(cfeature.COASTLINE)\n",
    "ax.add_feature(cfeature.BORDERS, linestyle=\":\")\n",
    "\n",
    "# Draw nodes (use scatter for individual node plotting)\n",
    "for _, attr in G.nodes(data=True):\n",
    "    lon, lat = attr[\"pos\"]\n",
    "    col = \"red\" if attr[\"has_pr\"] else \"blue\"\n",
    "    ax.scatter(lat, lon, s=10, color=col, transform=transform, zorder=3)\n",
    "\n",
    "# Draw edges (use scatter for individual edge plotting)\n",
    "# for edge in G.edges():\n",
    "#    lons, lats = zip(*[pos[node] for node in edge])\n",
    "#    ax.plot(lons, lats, color='gray', linewidth=2, transform=transform, zorder=2)\n",
    "\n",
    "# Add node labels\n",
    "# for node, (lon, lat) in pos.items():\n",
    "#   plt.text(lon-0.02, lat-0.015, node, transform=transform, horizontalalignment='right')\n",
    "\n",
    "print(\"All city and regional stations\")\n",
    "plt.show()"
   ]
  },
  {
   "cell_type": "markdown",
   "metadata": {},
   "source": [
    "### Save the graph\n"
   ]
  },
  {
   "cell_type": "code",
   "execution_count": null,
   "metadata": {},
   "outputs": [],
   "source": [
    "with open(\"../data/graph.pickle\", \"wb\") as file:\n",
    "    pickle.dump(G, file)"
   ]
  },
  {
   "cell_type": "code",
   "execution_count": null,
   "metadata": {},
   "outputs": [],
   "source": [
    "len([node for node in G.nodes() if G.nodes[node][\"has_pr\"]])"
   ]
  }
 ],
 "metadata": {
  "kernelspec": {
   "display_name": "lauzhack",
   "language": "python",
   "name": "python3"
  },
  "language_info": {
   "codemirror_mode": {
    "name": "ipython",
    "version": 3
   },
   "file_extension": ".py",
   "mimetype": "text/x-python",
   "name": "python",
   "nbconvert_exporter": "python",
   "pygments_lexer": "ipython3",
   "version": "3.10.13"
  }
 },
 "nbformat": 4,
 "nbformat_minor": 2
}
